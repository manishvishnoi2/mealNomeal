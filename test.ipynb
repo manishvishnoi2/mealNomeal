{
 "cells": [
  {
   "cell_type": "code",
   "execution_count": 6,
   "metadata": {},
   "outputs": [],
   "source": [
    "import pandas as pd\n",
    "from joblib import dump, load\n",
    "import warnings\n",
    "import logging\n",
    "logging.getLogger('tsfresh').setLevel(logging.ERROR)\n",
    "from tsfresh import extract_features, select_features,feature_selection\n",
    "from tsfresh.utilities.dataframe_functions import impute"
   ]
  },
  {
   "cell_type": "code",
   "execution_count": 7,
   "metadata": {},
   "outputs": [],
   "source": [
    "x = pd.read_csv('data/features_file.csv')\n",
    "x.to_csv('data/test.csv',index=None)"
   ]
  },
  {
   "cell_type": "code",
   "execution_count": 8,
   "metadata": {},
   "outputs": [],
   "source": [
    "def test(filename=\"data/test.csv\"):\n",
    "    test_file = pd.read_csv(filename)\n",
    "    featured = feature_collection(test_file)\n",
    "    print(\"Loading models\")\n",
    "    clf = load('models/RandomForest.joblib')\n",
    "    clf.predict(featured)"
   ]
  },
  {
   "cell_type": "code",
   "execution_count": 13,
   "metadata": {},
   "outputs": [],
   "source": [
    "def feature_collection(test_file):\n",
    "    d = test_file.stack()\n",
    "    d.index.rename([ 'id', 'time' ], inplace = True )\n",
    "    d = d.reset_index()\n",
    "    with warnings.catch_warnings():\n",
    "        warnings.simplefilter(\"ignore\")\n",
    "        f = extract_features( d, column_id = \"id\", column_sort = \"time\")\n",
    "    impute(f)\n",
    "    assert f.isnull().sum().sum() == 0\n",
    "    x = pd.read_csv('data/features_name.csv')\n",
    "    f=f[x['variable']]\n",
    "    print(f.shape)\n",
    "    return f"
   ]
  },
  {
   "cell_type": "code",
   "execution_count": 14,
   "metadata": {},
   "outputs": [
    {
     "name": "stderr",
     "output_type": "stream",
     "text": [
      "Feature Extraction: 100%|██████████| 29/29 [00:05<00:00,  5.36it/s]\n"
     ]
    },
    {
     "name": "stdout",
     "output_type": "stream",
     "text": [
      "(486, 10)\n",
      "Loading models\n"
     ]
    }
   ],
   "source": [
    "test()"
   ]
  },
  {
   "cell_type": "code",
   "execution_count": null,
   "metadata": {},
   "outputs": [],
   "source": []
  }
 ],
 "metadata": {
  "kernelspec": {
   "display_name": "Python 3",
   "language": "python",
   "name": "python3"
  },
  "language_info": {
   "codemirror_mode": {
    "name": "ipython",
    "version": 3
   },
   "file_extension": ".py",
   "mimetype": "text/x-python",
   "name": "python",
   "nbconvert_exporter": "python",
   "pygments_lexer": "ipython3",
   "version": "3.7.5"
  }
 },
 "nbformat": 4,
 "nbformat_minor": 2
}
