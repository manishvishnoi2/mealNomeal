{
 "cells": [
  {
   "cell_type": "code",
   "execution_count": 29,
   "metadata": {},
   "outputs": [],
   "source": [
    "import pandas as pd\n",
    "import numpy as np\n",
    "import warnings\n",
    "warnings.filterwarnings('ignore')\n",
    "from pprint import pprint\n",
    "from sklearn.preprocessing import StandardScaler, MinMaxScaler\n",
    "from sklearn.pipeline import make_pipeline\n",
    "from sklearn.linear_model import LogisticRegression as LR\n",
    "from sklearn.discriminant_analysis import LinearDiscriminantAnalysis as LDA\n",
    "from sklearn.ensemble import RandomForestClassifier as RF\n",
    "from sklearn.metrics import roc_auc_score as AUC, accuracy_score as accuracy\n",
    "from sklearn.svm import SVC as SVM\n",
    "from sklearn.metrics import precision_score\n",
    "from sklearn.metrics import recall_score\n",
    "from sklearn.model_selection import cross_val_score\n",
    "from sklearn.linear_model import SGDClassifier as SGD\n",
    "from sklearn.gaussian_process import GaussianProcessClassifier as GPC\n",
    "from sklearn.ensemble import AdaBoostClassifier as ABC\n",
    "from sklearn.naive_bayes import GaussianNB as NB\n",
    "from sklearn.gaussian_process.kernels import RBF\n",
    "from sklearn.tree import DecisionTreeClassifier as DTC"
   ]
  },
  {
   "cell_type": "code",
   "execution_count": 30,
   "metadata": {},
   "outputs": [],
   "source": [
    "data = pd.read_csv(\"data/features_file.csv\")"
   ]
  },
  {
   "cell_type": "code",
   "execution_count": 31,
   "metadata": {},
   "outputs": [],
   "source": [
    "classifiers = [\n",
    "    \n",
    "    make_pipeline( StandardScaler(), LR()),\n",
    "    make_pipeline( MinMaxScaler(), LR()),\n",
    "    make_pipeline( MinMaxScaler(), SVM(gamma='auto', probability=True)),\n",
    "    RF( n_estimators = 100, min_samples_leaf = 5 ),\n",
    "    SGD(random_state = 42),\n",
    "    GPC(1.0 * RBF(1.0)),\n",
    "    ABC(),\n",
    "    NB(),\n",
    "    DTC(max_depth = 5)\n",
    "]"
   ]
  },
  {
   "cell_type": "code",
   "execution_count": 32,
   "metadata": {},
   "outputs": [],
   "source": [
    "classifiers_names = [\"Logistic Regression(Standard Scalar)\",\"Logistic Regression(MinMax Scalar)\",\"SVM\",\"RandomForest\",\"Stocahastic gradient descent\",\"Gaussian Process Classifier\",\"Ada boost\",\"Naive bayes\",\"Decision Trees\"]"
   ]
  },
  {
   "cell_type": "code",
   "execution_count": 33,
   "metadata": {},
   "outputs": [
    {
     "name": "stdout",
     "output_type": "stream",
     "text": [
      "Classifer : Logistic Regression(Standard Scalar)\n",
      "Cross-Validation_scores are :[0.59183673 0.56701031 0.49484536 0.55670103 0.49484536] and it's average is: 0.5410477593099096 \n",
      "Classifer : Logistic Regression(MinMax Scalar)\n",
      "Cross-Validation_scores are :[0.62244898 0.64948454 0.46391753 0.67010309 0.50515464] and it's average is: 0.5822217546812539 \n",
      "Classifer : SVM\n",
      "Cross-Validation_scores are :[0.60204082 0.51546392 0.43298969 0.64948454 0.63917526] and it's average is: 0.5678308436776772 \n",
      "Classifer : RandomForest\n",
      "Cross-Validation_scores are :[0.63265306 0.62886598 0.46391753 0.70103093 0.58762887] and it's average is: 0.6028192720387124 \n",
      "Classifer : Stocahastic gradient descent\n",
      "Cross-Validation_scores are :[0.5        0.50515464 0.48453608 0.67010309 0.48453608] and it's average is: 0.5288659793814433 \n",
      "Classifer : Gaussian Process Classifier\n",
      "Cross-Validation_scores are :[0.51020408 0.50515464 0.49484536 0.50515464 0.50515464] and it's average is: 0.5041026719966337 \n",
      "Classifer : Ada boost\n",
      "Cross-Validation_scores are :[0.54081633 0.57731959 0.51546392 0.60824742 0.58762887] and it's average is: 0.565895224069009 \n",
      "Classifer : Naive bayes\n",
      "Cross-Validation_scores are :[0.58163265 0.58762887 0.50515464 0.54639175 0.62886598] and it's average is: 0.5699347780349253 \n",
      "Classifer : Decision Trees\n",
      "Cross-Validation_scores are :[0.63265306 0.6185567  0.56701031 0.54639175 0.71134021] and it's average is: 0.615190406059331 \n"
     ]
    }
   ],
   "source": [
    "idx = 0\n",
    "for clf in classifiers:\n",
    "    \n",
    "    print(\"Classifer : {}\".format(classifiers_names[idx]))\n",
    "    idx+=1\n",
    "    scores = cross_val_score(clf,data.loc[:, data.columns != 'y'],data['y'],cv = 5,scoring = \"accuracy\")\n",
    "    print(\"Cross-Validation_scores are :{} and it's average is: {} \".format(scores, sum(scores)/len(scores)))\n",
    "#     clf.fit( x_train, y_train )\n",
    "#     p = clf.predict_proba( x_test )[:,1]\n",
    "#     p_bin = clf.predict( x_test )\n",
    "\n",
    "#     auc = AUC( y_test, p )\n",
    "#     acc = accuracy( y_test, p_bin )\n",
    "#     precision = precision_score(y_test, p_bin, average='weighted')\n",
    "#     recall = recall_score(y_test, p_bin, average='weighted')\n",
    "#     print( \"AUC: {:.2%}, accuracy: {:.2%} \\n\\n{}\\n\\n\".format( auc, acc, clf ))\n",
    "#     print(\"Precision Score :\" + str(precision))\n",
    "#     print(\"Recall Score : \" + str(recall))"
   ]
  },
  {
   "cell_type": "code",
   "execution_count": null,
   "metadata": {},
   "outputs": [],
   "source": []
  }
 ],
 "metadata": {
  "kernelspec": {
   "display_name": "Python 3",
   "language": "python",
   "name": "python3"
  },
  "language_info": {
   "codemirror_mode": {
    "name": "ipython",
    "version": 3
   },
   "file_extension": ".py",
   "mimetype": "text/x-python",
   "name": "python",
   "nbconvert_exporter": "python",
   "pygments_lexer": "ipython3",
   "version": "3.7.5"
  }
 },
 "nbformat": 4,
 "nbformat_minor": 2
}
